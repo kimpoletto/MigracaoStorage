{
 "cells": [
  {
   "cell_type": "markdown",
   "metadata": {},
   "source": [
    "# Importando as bibliotecas necessárias"
   ]
  },
  {
   "cell_type": "code",
   "execution_count": 3,
   "metadata": {},
   "outputs": [],
   "source": [
    "import os\n",
    "import shutil\n",
    "import pandas as pd"
   ]
  },
  {
   "cell_type": "markdown",
   "metadata": {},
   "source": [
    "O objetivo é mover os arquivos da pasta ToDAP para a árvore do STORAGE\n",
    "\n",
    "1 - Criar estrutura da árvore STORAGE\n",
    "\n",
    "2 - Listar os arquivos que deverão ser movidos7\n",
    "\n",
    "3 - Mover os arquivos"
   ]
  },
  {
   "cell_type": "markdown",
   "metadata": {},
   "source": [
    "# Criando árvore 01_GIS_DATA"
   ]
  },
  {
   "cell_type": "code",
   "execution_count": 10,
   "metadata": {},
   "outputs": [],
   "source": [
    "\n",
    "alvo = 'CPCN_Capricornio'\n",
    "\n",
    "maps = ['Drillhole', 'Geochemistry', 'Geology', 'Geophysics', 'Section']\n",
    "workspace = ['3D', '2D_Autocad']\n",
    "\n",
    "\n",
    "\n",
    "for m in maps:\n",
    "\n",
    "    caminho = f'C:\\\\Nova pasta\\\\Documents\\\\STORAGE\\\\01_GIS_DATA\\\\EAST_HUB\\\\{alvo}\\\\Maps\\\\{m}'\n",
    "\n",
    "    if not os.path.exists(caminho):\n",
    "        os.makedirs(caminho)\n",
    "        \n",
    "for w in workspace:\n",
    "\n",
    "    caminho2 = f'C:\\\\Nova pasta\\\\Documents\\\\STORAGE\\\\01_GIS_DATA\\\\EAST_HUB\\\\{alvo}\\\\Workspaces\\\\{w}'\n",
    "\n",
    "    if not os.path.exists(caminho2):\n",
    "        os.makedirs(caminho2)"
   ]
  },
  {
   "cell_type": "markdown",
   "metadata": {},
   "source": [
    "# Criando árvore 03_Geology"
   ]
  },
  {
   "cell_type": "code",
   "execution_count": 8,
   "metadata": {},
   "outputs": [],
   "source": [
    "alvo = 'CARA_Caramujo'\n",
    "\n",
    "geo = ['Drill_Program', 'Presentations', 'Procedures', 'Reports']\n",
    "reports = ['Geology', 'Press_Release', 'Progress', 'QAQC']\n",
    "geology = ['Consultant', 'Internal']\n",
    "progress = ['Monthly', 'Weekly']\n",
    "qaqc = ['Consultant', 'Internal']\n",
    "\n",
    "for g in geo:\n",
    "\n",
    "    caminho = f'C:\\\\Nova pasta\\\\Documents\\\\STORAGE\\\\03_GEOLOGY\\\\EAST_HUB\\\\{g}'\n",
    "\n",
    "    if not os.path.exists(caminho):\n",
    "        os.makedirs(caminho)\n",
    "        \n",
    "        \n",
    "for g in geo:\n",
    "\n",
    "    caminho = f'C:\\\\Nova pasta\\\\Documents\\\\STORAGE\\\\03_GEOLOGY\\\\EAST_HUB\\\\Drill_Program\\\\YYYY'\n",
    "\n",
    "    if not os.path.exists(caminho):\n",
    "        os.makedirs(caminho)\n",
    "        \n",
    "        \n",
    "for r in reports:\n",
    "\n",
    "    caminho = f'C:\\\\Nova pasta\\\\Documents\\\\STORAGE\\\\03_GEOLOGY\\\\EAST_HUB\\\\Reports\\\\{r}'\n",
    "\n",
    "    if not os.path.exists(caminho):\n",
    "        os.makedirs(caminho)\n",
    "        \n",
    "for g1 in geology:\n",
    "\n",
    "    caminho = f'C:\\\\Nova pasta\\\\Documents\\\\STORAGE\\\\03_GEOLOGY\\\\EAST_HUB\\\\Reports\\\\Geology\\\\{g1}'\n",
    "\n",
    "    if not os.path.exists(caminho):\n",
    "        os.makedirs(caminho)\n",
    "        \n",
    "for p in progress:\n",
    "\n",
    "    caminho = f'C:\\\\Nova pasta\\\\Documents\\\\STORAGE\\\\03_GEOLOGY\\\\EAST_HUB\\\\Reports\\\\Progress\\\\{p}'\n",
    "\n",
    "    if not os.path.exists(caminho):\n",
    "        os.makedirs(caminho)\n",
    "        \n",
    "for q in qaqc:\n",
    "\n",
    "    caminho = f'C:\\\\Nova pasta\\\\Documents\\\\STORAGE\\\\03_GEOLOGY\\\\EAST_HUB\\\\Reports\\\\QAQC\\\\{q}'\n",
    "\n",
    "    if not os.path.exists(caminho):\n",
    "        os.makedirs(caminho)      "
   ]
  },
  {
   "cell_type": "markdown",
   "metadata": {},
   "source": [
    "# Criando árvore 04_CORE_SHED"
   ]
  },
  {
   "cell_type": "code",
   "execution_count": 11,
   "metadata": {},
   "outputs": [],
   "source": [
    "for z in range(1,8):   \n",
    "    alvo = 'CPCN_Capricornio'\n",
    "    furo = f''\n",
    "\n",
    "    geo = ['Collar', 'Core_Box', 'Core_Photos', 'Daily_Drilling_Report', 'Density', 'Environmental', 'Geotechnical', 'Lithology', 'Mineralization', 'Petrography', 'Petrophysics', 'Sampling', 'Striplogs', 'Structural', 'Survey', 'Weathering']\n",
    "\n",
    "\n",
    "\n",
    "    caminho = f'C:\\\\Nova pasta\\\\Documents\\\\STORAGE\\\\04_CORE_SHED\\\\EAST_HUB\\\\{alvo}\\\\Surface_Mapping\\\\Field_Logs\\\\YYYY'\n",
    "\n",
    "    if not os.path.exists(caminho):\n",
    "        os.makedirs(caminho)\n",
    "\n",
    "\n",
    "    for g in geo:\n",
    "\n",
    "        caminho2 = f'C:\\\\Nova pasta\\\\Documents\\\\STORAGE\\\\04_CORE_SHED\\\\EAST_HUB\\\\{alvo}\\\\Drill_Logs\\\\{furo}\\\\{g}'\n",
    "\n",
    "        if not os.path.exists(caminho2):\n",
    "            os.makedirs(caminho2)\n",
    "\n"
   ]
  },
  {
   "cell_type": "markdown",
   "metadata": {},
   "source": [
    "# Criando árvore 05_LAB"
   ]
  },
  {
   "cell_type": "code",
   "execution_count": 32,
   "metadata": {},
   "outputs": [],
   "source": [
    "alvo = '0094_Alvo_94'\n",
    "furo = 'FD01'\n",
    "ano = '1998'\n",
    "assay = ['DH', 'GT']\n",
    "\n",
    "for a in assay:\n",
    "    caminho = f'C:\\\\Nova pasta\\\\Documents\\\\STORAGE\\\\05_LAB\\\\EAST_HUB\\\\{alvo}\\\\Assay_Certified\\\\{a}\\\\{ano}'\n",
    "\n",
    "    if not os.path.exists(caminho):\n",
    "        os.makedirs(caminho)\n",
    "        \n",
    "for a in assay:\n",
    "    caminho2 = f'C:\\\\Nova pasta\\\\Documents\\\\STORAGE\\\\05_LAB\\\\EAST_HUB\\\\{alvo}\\\\Lab_Dispatch_Form\\\\{a}\\\\{ano}'\n",
    "\n",
    "    if not os.path.exists(caminho2):\n",
    "        os.makedirs(caminho2)"
   ]
  },
  {
   "cell_type": "markdown",
   "metadata": {},
   "source": [
    "# Criando árvore 06_TOPOGRAPHY"
   ]
  },
  {
   "cell_type": "code",
   "execution_count": 7,
   "metadata": {},
   "outputs": [],
   "source": [
    "alvo = 'CARA_caramujo'\n",
    "furo = 'FD01'\n",
    "geo = ['Collar', 'Core_Box', 'Core_Photos', 'Daily_Drilling_Report', 'Density', 'Environmental', 'Geotechnical', 'Lithology', 'Mineralization', 'Petrography', 'Petrophysics', 'Sampling', 'Striplogs', 'Structural', 'Survey', 'Weathering']\n",
    "\n",
    "\n",
    "caminho = f'C:\\\\Nova pasta\\\\Documents\\\\STORAGE\\\\06_TOPOGRAPHY\\\\EAST_HUB\\\\{alvo}\\\\Maps\\\\Theme'\n",
    "\n",
    "if not os.path.exists(caminho):\n",
    "    os.makedirs(caminho)\n",
    "    \n",
    "\n",
    "    \n",
    "caminho2 = f'C:\\\\Nova pasta\\\\Documents\\\\STORAGE\\\\06_TOPOGRAPHY\\\\EAST_HUB\\\\{alvo}\\\\Maps\\\\Drill_Logs\\\\{furo}\\\\Coordinate_Certified'\n",
    "\n",
    "if not os.path.exists(caminho2):\n",
    "    os.makedirs(caminho2)"
   ]
  },
  {
   "cell_type": "markdown",
   "metadata": {},
   "source": [
    "# Criando árvore 10_GEOCHEM"
   ]
  },
  {
   "cell_type": "code",
   "execution_count": 9,
   "metadata": {},
   "outputs": [],
   "source": [
    "for z in range(1,2):\n",
    "    alvo = 'CPCN_Capricornio'\n",
    "    furo = f''\n",
    "\n",
    "    assun = ['Soil', 'Rock', 'Drill_hole']\n",
    "\n",
    "    caminho = f'C:\\\\Nova pasta\\\\Documents\\\\STORAGE\\\\10_GEOCHEM\\\\EAST_HUB\\\\{alvo}\\\\Maps'\n",
    "    if not os.path.exists(caminho):\n",
    "        os.makedirs(caminho)\n",
    "\n",
    "    caminho2 = f'C:\\\\Nova pasta\\\\Documents\\\\STORAGE\\\\10_GEOCHEM\\\\EAST_HUB\\\\{alvo}\\\\Presentation'\n",
    "    if not os.path.exists(caminho2):\n",
    "        os.makedirs(caminho2)\n",
    "\n",
    "    caminho3 = f'C:\\\\Nova pasta\\\\Documents\\\\STORAGE\\\\10_GEOCHEM\\\\EAST_HUB\\\\{alvo}\\\\Reports'\n",
    "    if not os.path.exists(caminho3):\n",
    "        os.makedirs(caminho3)\n",
    "\n",
    "    for a in assun:\n",
    "\n",
    "        caminho4 = f'C:\\\\Nova pasta\\\\Documents\\\\STORAGE\\\\10_GEOCHEM\\\\EAST_HUB\\\\{alvo}\\\\Assay\\\\{a}'\n",
    "        if not os.path.exists(caminho4):\n",
    "            os.makedirs(caminho4)\n",
    "\n",
    "    caminho5 = f'C:\\\\Nova pasta\\\\Documents\\\\STORAGE\\\\10_GEOCHEM\\\\EAST_HUB\\\\{alvo}\\\\Assay\\\\Drill_hole\\\\{furo}'\n",
    "    if not os.path.exists(caminho5):\n",
    "        os.makedirs(caminho5)"
   ]
  },
  {
   "cell_type": "code",
   "execution_count": null,
   "metadata": {},
   "outputs": [],
   "source": []
  }
 ],
 "metadata": {
  "kernelspec": {
   "display_name": "Python 3",
   "language": "python",
   "name": "python3"
  },
  "language_info": {
   "codemirror_mode": {
    "name": "ipython",
    "version": 3
   },
   "file_extension": ".py",
   "mimetype": "text/x-python",
   "name": "python",
   "nbconvert_exporter": "python",
   "pygments_lexer": "ipython3",
   "version": "3.8.5"
  }
 },
 "nbformat": 4,
 "nbformat_minor": 4
}
